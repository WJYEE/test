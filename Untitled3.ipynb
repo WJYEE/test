{
  "nbformat": 4,
  "nbformat_minor": 0,
  "metadata": {
    "colab": {
      "name": "Untitled3.ipynb",
      "provenance": [],
      "collapsed_sections": [],
      "authorship_tag": "ABX9TyNisFHaTS5UqZ90RqBJ9HZH",
      "include_colab_link": true
    },
    "kernelspec": {
      "name": "python3",
      "display_name": "Python 3"
    },
    "language_info": {
      "name": "python"
    }
  },
  "cells": [
    {
      "cell_type": "markdown",
      "metadata": {
        "id": "view-in-github",
        "colab_type": "text"
      },
      "source": [
        "<a href=\"https://colab.research.google.com/github/WJYEE/test/blob/main/Untitled3.ipynb\" target=\"_parent\"><img src=\"https://colab.research.google.com/assets/colab-badge.svg\" alt=\"Open In Colab\"/></a>"
      ]
    },
    {
      "cell_type": "code",
      "execution_count": 11,
      "metadata": {
        "colab": {
          "base_uri": "https://localhost:8080/"
        },
        "id": "zhqSDcQhfdpJ",
        "outputId": "02fa7161-b076-4057-e4fe-62a46480f757"
      },
      "outputs": [
        {
          "output_type": "execute_result",
          "data": {
            "text/plain": [
              "5"
            ]
          },
          "metadata": {},
          "execution_count": 11
        }
      ],
      "source": [
        "a=5\n",
        "b=2\n",
        "a"
      ]
    },
    {
      "cell_type": "code",
      "source": [
        "a += 1\n",
        "a"
      ],
      "metadata": {
        "colab": {
          "base_uri": "https://localhost:8080/"
        },
        "id": "ctHCnIWNgexG",
        "outputId": "455a35b2-ba12-46bc-b532-87c4b8544fe9"
      },
      "execution_count": 12,
      "outputs": [
        {
          "output_type": "execute_result",
          "data": {
            "text/plain": [
              "6"
            ]
          },
          "metadata": {},
          "execution_count": 12
        }
      ]
    },
    {
      "cell_type": "code",
      "source": [
        "s = \"Hello world\"\n",
        "s"
      ],
      "metadata": {
        "colab": {
          "base_uri": "https://localhost:8080/",
          "height": 36
        },
        "id": "inVYg9H7g0RF",
        "outputId": "ae33c46b-c8a2-48f3-f999-a9cc42fced6a"
      },
      "execution_count": 13,
      "outputs": [
        {
          "output_type": "execute_result",
          "data": {
            "text/plain": [
              "'Hello world'"
            ],
            "application/vnd.google.colaboratory.intrinsic+json": {
              "type": "string"
            }
          },
          "metadata": {},
          "execution_count": 13
        }
      ]
    },
    {
      "cell_type": "code",
      "source": [
        "\"'Hello World'는 최고의 프로그래밍이다!\""
      ],
      "metadata": {
        "colab": {
          "base_uri": "https://localhost:8080/",
          "height": 36
        },
        "id": "TsFA1IZFhMep",
        "outputId": "43c9cb2c-4500-4d65-9676-0bf0ac6ca1cc"
      },
      "execution_count": 14,
      "outputs": [
        {
          "output_type": "execute_result",
          "data": {
            "text/plain": [
              "\"'Hello World'는 최고의 프로그래밍이다!\""
            ],
            "application/vnd.google.colaboratory.intrinsic+json": {
              "type": "string"
            }
          },
          "metadata": {},
          "execution_count": 14
        }
      ]
    },
    {
      "cell_type": "code",
      "source": [
        "s = \"\"\"안녕\n",
        "아진짜? 뭘?\n",
        "\"\"\" #큰 주석처리여\n",
        "s # \\는 역슬래쉬 \\n은 줄바꿈"
      ],
      "metadata": {
        "colab": {
          "base_uri": "https://localhost:8080/",
          "height": 36
        },
        "id": "O-Zw-R9MhWoW",
        "outputId": "26a09c9e-2598-45d8-c052-b514f53a24ad"
      },
      "execution_count": 15,
      "outputs": [
        {
          "output_type": "execute_result",
          "data": {
            "text/plain": [
              "'안녕\\n아진짜? 뭘?\\n'"
            ],
            "application/vnd.google.colaboratory.intrinsic+json": {
              "type": "string"
            }
          },
          "metadata": {},
          "execution_count": 15
        }
      ]
    },
    {
      "cell_type": "code",
      "source": [
        "s = \"1$ 환율은 1100원입니다.\"\n",
        "print(s.count('1')) #문자로 보는 것 함수는 print제외하고 함수만 입력했을때에서는 왜 함수값의 마지막것만 출력이 되는 것인가.\n",
        "print(s.find('1'))"
      ],
      "metadata": {
        "colab": {
          "base_uri": "https://localhost:8080/"
        },
        "id": "CCkPskzJhxbK",
        "outputId": "3c834820-2da0-4283-b0db-5e0614189992"
      },
      "execution_count": 26,
      "outputs": [
        {
          "output_type": "stream",
          "name": "stdout",
          "text": [
            "3\n",
            "0\n"
          ]
        }
      ]
    },
    {
      "cell_type": "code",
      "source": [
        "name = \"지예\"\n",
        "print(name+\"는 키가 큽니다.\")"
      ],
      "metadata": {
        "colab": {
          "base_uri": "https://localhost:8080/"
        },
        "id": "a88aARnlmLir",
        "outputId": "e0a134ee-f778-4e07-d91e-a115e5cb1245"
      },
      "execution_count": 35,
      "outputs": [
        {
          "output_type": "stream",
          "name": "stdout",
          "text": [
            "지예는 키가 큽니다.\n"
          ]
        }
      ]
    },
    {
      "cell_type": "code",
      "source": [
        "name = input('당신의 이름은?')\n",
        "print(name + \"입니다.\")"
      ],
      "metadata": {
        "colab": {
          "base_uri": "https://localhost:8080/"
        },
        "id": "bPOuDf6xnwb1",
        "outputId": "4695794d-c2d0-495e-b531-22c5aaed2576"
      },
      "execution_count": 36,
      "outputs": [
        {
          "output_type": "stream",
          "name": "stdout",
          "text": [
            "당신의 이름은?우지예\n",
            "우지예입니다.\n"
          ]
        }
      ]
    },
    {
      "cell_type": "code",
      "source": [
        "weight = 12\n",
        "print(\"우리집 강아지의 몸무게는 %dkg입니다.\" %weight)"
      ],
      "metadata": {
        "colab": {
          "base_uri": "https://localhost:8080/"
        },
        "id": "GBAAZvfYrfpO",
        "outputId": "3854d47d-2f06-4dc9-f3d3-2bb1f51e2008"
      },
      "execution_count": 38,
      "outputs": [
        {
          "output_type": "stream",
          "name": "stdout",
          "text": [
            "우리집 강아지의 몸무게는 12kg입니다.\n"
          ]
        }
      ]
    },
    {
      "cell_type": "code",
      "source": [
        "print(5)"
      ],
      "metadata": {
        "colab": {
          "base_uri": "https://localhost:8080/"
        },
        "id": "Li2Zs0B3jIty",
        "outputId": "b116534d-687d-4763-dc9b-c33c6cb612a5"
      },
      "execution_count": 24,
      "outputs": [
        {
          "output_type": "stream",
          "name": "stdout",
          "text": [
            "5\n"
          ]
        }
      ]
    },
    {
      "cell_type": "code",
      "source": [
        "name = input(\"What's your name?\")\n"
      ],
      "metadata": {
        "colab": {
          "base_uri": "https://localhost:8080/"
        },
        "id": "-FEqI5NCuwRS",
        "outputId": "8f22d3ec-bacb-4a61-f25c-fa79af767bef"
      },
      "execution_count": 39,
      "outputs": [
        {
          "name": "stdout",
          "output_type": "stream",
          "text": [
            "What's your name?ol\n"
          ]
        }
      ]
    },
    {
      "cell_type": "code",
      "source": [
        "name\n"
      ],
      "metadata": {
        "colab": {
          "base_uri": "https://localhost:8080/",
          "height": 36
        },
        "id": "ctBSOL57u3eJ",
        "outputId": "ca3416b8-f092-40b1-84d1-b5220b0477b7"
      },
      "execution_count": 40,
      "outputs": [
        {
          "output_type": "execute_result",
          "data": {
            "text/plain": [
              "'ol'"
            ],
            "application/vnd.google.colaboratory.intrinsic+json": {
              "type": "string"
            }
          },
          "metadata": {},
          "execution_count": 40
        }
      ]
    },
    {
      "cell_type": "code",
      "source": [
        "w1 = float(input(\"1년전 몸무게?\"))\n",
        "w2 = float(input(\"현재 몸무게?\"))\n",
        "inc = w2-w1\n",
        "inc"
      ],
      "metadata": {
        "colab": {
          "base_uri": "https://localhost:8080/"
        },
        "id": "bQxYXd8iu5kc",
        "outputId": "29cc1849-7107-47b6-ec50-5b3ad624a7e6"
      },
      "execution_count": 45,
      "outputs": [
        {
          "name": "stdout",
          "output_type": "stream",
          "text": [
            "1년전 몸무게?55.2\n",
            "현재 몸무게?54.2\n"
          ]
        },
        {
          "output_type": "execute_result",
          "data": {
            "text/plain": [
              "-1.0"
            ]
          },
          "metadata": {},
          "execution_count": 45
        }
      ]
    },
    {
      "cell_type": "code",
      "source": [
        "name = \"Harry Potter\"\n",
        "age = 7\n",
        "job = \"wizard\"\n",
        "print(\"My name is %s. and I'm %dyears old.%s\" %(name,age,job))"
      ],
      "metadata": {
        "colab": {
          "base_uri": "https://localhost:8080/"
        },
        "id": "q2CQvHbWv9o2",
        "outputId": "2bbce8dd-e4cc-456d-e5cc-0bb100567c56"
      },
      "execution_count": 50,
      "outputs": [
        {
          "output_type": "stream",
          "name": "stdout",
          "text": [
            "My name is Harry Potter. and I'm 7years old.wizard\n"
          ]
        }
      ]
    },
    {
      "cell_type": "code",
      "source": [
        "name = \"Harry Potter\"\n",
        "age = 7\n",
        "job = \"wizard\"\n",
        "print(f\"My name is {name}.and I'm {age}years old.{job}\")"
      ],
      "metadata": {
        "colab": {
          "base_uri": "https://localhost:8080/"
        },
        "id": "c9xeq0tKyNre",
        "outputId": "218861bb-054b-4f7b-aba9-db118653d422"
      },
      "execution_count": 52,
      "outputs": [
        {
          "output_type": "stream",
          "name": "stdout",
          "text": [
            "My name is Harry Potter.and I'm 7years old.wizard\n"
          ]
        }
      ]
    },
    {
      "cell_type": "code",
      "source": [
        "print(\"Harry\", end=\"\")\n",
        "print(\"Potter\")"
      ],
      "metadata": {
        "colab": {
          "base_uri": "https://localhost:8080/"
        },
        "id": "BzHhV6CVyto9",
        "outputId": "08df5742-8048-4d05-e1f0-9e8919c1b02b"
      },
      "execution_count": 55,
      "outputs": [
        {
          "output_type": "stream",
          "name": "stdout",
          "text": [
            "HarryPotter\n"
          ]
        }
      ]
    }
  ]
}